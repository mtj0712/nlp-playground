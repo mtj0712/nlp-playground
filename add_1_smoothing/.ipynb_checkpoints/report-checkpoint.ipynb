{
 "cells": [
  {
   "cell_type": "markdown",
   "id": "d4e41f10",
   "metadata": {},
   "source": [
    "# Add-One Smoothing\n",
    "\n",
    "Here, I take two English corpora - King James Version of the Bible and the Universal Declaration of Human Rights - and apply add-one smoothing to generate n-gram models for each corpus.\n",
    "\n",
    "For each model, I compute its cross-entropy and perplexity and develop a simple sentence finisher. After that, I analyze the effectiveness of each corpus and the ideal order of the n-gram model."
   ]
  },
  {
   "cell_type": "code",
   "execution_count": null,
   "id": "d77e14b2",
   "metadata": {
    "scrolled": true
   },
   "outputs": [],
   "source": [
    "%cd .."
   ]
  },
  {
   "cell_type": "code",
   "execution_count": null,
   "id": "7c3ac45a",
   "metadata": {},
   "outputs": [],
   "source": [
    "from reader import *\n",
    "import pygtrie"
   ]
  },
  {
   "cell_type": "code",
   "execution_count": null,
   "id": "63208359",
   "metadata": {},
   "outputs": [],
   "source": [
    "kjv = KJVReader()\n",
    "kjv_unigram_trie = pygtrie.StringTrie()"
   ]
  },
  {
   "cell_type": "code",
   "execution_count": null,
   "id": "59325889",
   "metadata": {},
   "outputs": [],
   "source": [
    "while not kjv.is_eof():\n",
    "    sentence = kjv.read_sentence()\n",
    "\n",
    "    # update unigram count\n",
    "    \n",
    "    print(sentence)\n",
    "    input()"
   ]
  },
  {
   "cell_type": "code",
   "execution_count": null,
   "id": "140084a7-c988-420b-937f-051573198dcd",
   "metadata": {},
   "outputs": [],
   "source": [
    "udhr_eng = UDHREngReader()"
   ]
  },
  {
   "cell_type": "code",
   "execution_count": null,
   "id": "8992d2de",
   "metadata": {},
   "outputs": [],
   "source": [
    "while not udhr_eng.is_eof():\n",
    "    sentence = udhr_eng.read_sentence()\n",
    "    print(sentence, end='\\n\\n')"
   ]
  }
 ],
 "metadata": {
  "kernelspec": {
   "display_name": "Python 3 (ipykernel)",
   "language": "python",
   "name": "python3"
  },
  "language_info": {
   "codemirror_mode": {
    "name": "ipython",
    "version": 3
   },
   "file_extension": ".py",
   "mimetype": "text/x-python",
   "name": "python",
   "nbconvert_exporter": "python",
   "pygments_lexer": "ipython3",
   "version": "3.12.4"
  }
 },
 "nbformat": 4,
 "nbformat_minor": 5
}
